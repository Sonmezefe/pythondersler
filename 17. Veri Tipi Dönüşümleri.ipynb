{
 "cells": [
  {
   "cell_type": "code",
   "execution_count": 1,
   "id": "a8090d6e",
   "metadata": {},
   "outputs": [],
   "source": [
    "a=43"
   ]
  },
  {
   "cell_type": "code",
   "execution_count": 2,
   "id": "852ab336",
   "metadata": {},
   "outputs": [],
   "source": [
    "a=float(a)"
   ]
  },
  {
   "cell_type": "code",
   "execution_count": 3,
   "id": "d52b2b80",
   "metadata": {},
   "outputs": [
    {
     "data": {
      "text/plain": [
       "43.0"
      ]
     },
     "execution_count": 3,
     "metadata": {},
     "output_type": "execute_result"
    }
   ],
   "source": [
    "a"
   ]
  },
  {
   "cell_type": "code",
   "execution_count": 4,
   "id": "9853fc80",
   "metadata": {},
   "outputs": [
    {
     "data": {
      "text/plain": [
       "5.0"
      ]
     },
     "execution_count": 4,
     "metadata": {},
     "output_type": "execute_result"
    }
   ],
   "source": [
    "float(5)"
   ]
  },
  {
   "cell_type": "code",
   "execution_count": 5,
   "id": "40fd1631",
   "metadata": {},
   "outputs": [
    {
     "ename": "TypeError",
     "evalue": "int() can't convert non-string with explicit base",
     "output_type": "error",
     "traceback": [
      "\u001b[1;31m---------------------------------------------------------------------------\u001b[0m",
      "\u001b[1;31mTypeError\u001b[0m                                 Traceback (most recent call last)",
      "\u001b[1;32m~\\AppData\\Local\\Temp/ipykernel_6600/1864299529.py\u001b[0m in \u001b[0;36m<module>\u001b[1;34m\u001b[0m\n\u001b[1;32m----> 1\u001b[1;33m \u001b[0mint\u001b[0m\u001b[1;33m(\u001b[0m\u001b[1;36m13\u001b[0m\u001b[1;33m,\u001b[0m\u001b[1;36m13\u001b[0m\u001b[1;33m)\u001b[0m\u001b[1;33m\u001b[0m\u001b[1;33m\u001b[0m\u001b[0m\n\u001b[0m",
      "\u001b[1;31mTypeError\u001b[0m: int() can't convert non-string with explicit base"
     ]
    }
   ],
   "source": [
    "int(13,13)"
   ]
  },
  {
   "cell_type": "code",
   "execution_count": 6,
   "id": "2d3cb05b",
   "metadata": {},
   "outputs": [
    {
     "data": {
      "text/plain": [
       "13"
      ]
     },
     "execution_count": 6,
     "metadata": {},
     "output_type": "execute_result"
    }
   ],
   "source": [
    "int(13.13)"
   ]
  },
  {
   "cell_type": "code",
   "execution_count": 7,
   "id": "4ece27f9",
   "metadata": {},
   "outputs": [
    {
     "data": {
      "text/plain": [
       "13"
      ]
     },
     "execution_count": 7,
     "metadata": {},
     "output_type": "execute_result"
    }
   ],
   "source": [
    "int(13.56)"
   ]
  },
  {
   "cell_type": "code",
   "execution_count": 8,
   "id": "fe38314b",
   "metadata": {},
   "outputs": [],
   "source": [
    "b=13.13"
   ]
  },
  {
   "cell_type": "code",
   "execution_count": 9,
   "id": "46e1228a",
   "metadata": {},
   "outputs": [
    {
     "data": {
      "text/plain": [
       "13.13"
      ]
     },
     "execution_count": 9,
     "metadata": {},
     "output_type": "execute_result"
    }
   ],
   "source": [
    "b"
   ]
  },
  {
   "cell_type": "code",
   "execution_count": 10,
   "id": "1eaa157f",
   "metadata": {},
   "outputs": [],
   "source": [
    "b=int(b)"
   ]
  },
  {
   "cell_type": "code",
   "execution_count": 11,
   "id": "83587572",
   "metadata": {},
   "outputs": [
    {
     "data": {
      "text/plain": [
       "13"
      ]
     },
     "execution_count": 11,
     "metadata": {},
     "output_type": "execute_result"
    }
   ],
   "source": [
    "b"
   ]
  },
  {
   "cell_type": "code",
   "execution_count": 12,
   "id": "945a72c5",
   "metadata": {},
   "outputs": [],
   "source": [
    "a=1235512"
   ]
  },
  {
   "cell_type": "code",
   "execution_count": 13,
   "id": "42b372a4",
   "metadata": {},
   "outputs": [
    {
     "data": {
      "text/plain": [
       "1235512"
      ]
     },
     "execution_count": 13,
     "metadata": {},
     "output_type": "execute_result"
    }
   ],
   "source": [
    "a"
   ]
  },
  {
   "cell_type": "code",
   "execution_count": 14,
   "id": "2a04c4f6",
   "metadata": {},
   "outputs": [],
   "source": [
    "a=str(a)"
   ]
  },
  {
   "cell_type": "code",
   "execution_count": 15,
   "id": "c8adb4b1",
   "metadata": {},
   "outputs": [
    {
     "data": {
      "text/plain": [
       "'1235512'"
      ]
     },
     "execution_count": 15,
     "metadata": {},
     "output_type": "execute_result"
    }
   ],
   "source": [
    "a"
   ]
  },
  {
   "cell_type": "code",
   "execution_count": 16,
   "id": "fe2d57d7",
   "metadata": {},
   "outputs": [
    {
     "data": {
      "text/plain": [
       "'1235123'"
      ]
     },
     "execution_count": 16,
     "metadata": {},
     "output_type": "execute_result"
    }
   ],
   "source": [
    "str(1235123)"
   ]
  },
  {
   "cell_type": "code",
   "execution_count": 17,
   "id": "32b117ee",
   "metadata": {},
   "outputs": [
    {
     "data": {
      "text/plain": [
       "7"
      ]
     },
     "execution_count": 17,
     "metadata": {},
     "output_type": "execute_result"
    }
   ],
   "source": [
    "len(a)"
   ]
  },
  {
   "cell_type": "code",
   "execution_count": 18,
   "id": "bb8005ec",
   "metadata": {},
   "outputs": [
    {
     "data": {
      "text/plain": [
       "'23'"
      ]
     },
     "execution_count": 18,
     "metadata": {},
     "output_type": "execute_result"
    }
   ],
   "source": [
    "a[1:3]"
   ]
  },
  {
   "cell_type": "code",
   "execution_count": 21,
   "id": "6ae6e418",
   "metadata": {},
   "outputs": [
    {
     "data": {
      "text/plain": [
       "'2155321'"
      ]
     },
     "execution_count": 21,
     "metadata": {},
     "output_type": "execute_result"
    }
   ],
   "source": [
    "a[::-1]"
   ]
  },
  {
   "cell_type": "code",
   "execution_count": 22,
   "id": "f6173cc6",
   "metadata": {},
   "outputs": [],
   "source": [
    "a=\"43561\""
   ]
  },
  {
   "cell_type": "code",
   "execution_count": 23,
   "id": "7ca11358",
   "metadata": {},
   "outputs": [
    {
     "data": {
      "text/plain": [
       "'43561'"
      ]
     },
     "execution_count": 23,
     "metadata": {},
     "output_type": "execute_result"
    }
   ],
   "source": [
    "a"
   ]
  },
  {
   "cell_type": "code",
   "execution_count": 24,
   "id": "d34a9709",
   "metadata": {},
   "outputs": [
    {
     "data": {
      "text/plain": [
       "43561"
      ]
     },
     "execution_count": 24,
     "metadata": {},
     "output_type": "execute_result"
    }
   ],
   "source": [
    "int(a)"
   ]
  },
  {
   "cell_type": "code",
   "execution_count": 25,
   "id": "66cb36c4",
   "metadata": {},
   "outputs": [
    {
     "data": {
      "text/plain": [
       "43561.0"
      ]
     },
     "execution_count": 25,
     "metadata": {},
     "output_type": "execute_result"
    }
   ],
   "source": [
    "float(a)"
   ]
  },
  {
   "cell_type": "code",
   "execution_count": 26,
   "id": "47a729a1",
   "metadata": {},
   "outputs": [],
   "source": [
    "a = \"12355123\""
   ]
  },
  {
   "cell_type": "code",
   "execution_count": null,
   "id": "998495ff",
   "metadata": {},
   "outputs": [],
   "source": []
  },
  {
   "cell_type": "code",
   "execution_count": 27,
   "id": "5ee36ceb",
   "metadata": {},
   "outputs": [
    {
     "data": {
      "text/plain": [
       "'12355123'"
      ]
     },
     "execution_count": 27,
     "metadata": {},
     "output_type": "execute_result"
    }
   ],
   "source": [
    "a"
   ]
  },
  {
   "cell_type": "code",
   "execution_count": 28,
   "id": "2ef00e75",
   "metadata": {},
   "outputs": [],
   "source": [
    "a = float(a)"
   ]
  },
  {
   "cell_type": "code",
   "execution_count": 29,
   "id": "ad561bda",
   "metadata": {},
   "outputs": [
    {
     "data": {
      "text/plain": [
       "12355123.0"
      ]
     },
     "execution_count": 29,
     "metadata": {},
     "output_type": "execute_result"
    }
   ],
   "source": [
    "a"
   ]
  },
  {
   "cell_type": "code",
   "execution_count": 30,
   "id": "a784b1bf",
   "metadata": {},
   "outputs": [
    {
     "data": {
      "text/plain": [
       "12355123"
      ]
     },
     "execution_count": 30,
     "metadata": {},
     "output_type": "execute_result"
    }
   ],
   "source": [
    "a = int(a)\n",
    "a"
   ]
  },
  {
   "cell_type": "code",
   "execution_count": null,
   "id": "f5b00a50",
   "metadata": {},
   "outputs": [],
   "source": []
  },
  {
   "cell_type": "code",
   "execution_count": null,
   "id": "11e716e5",
   "metadata": {},
   "outputs": [],
   "source": []
  }
 ],
 "metadata": {
  "kernelspec": {
   "display_name": "Python 3 (ipykernel)",
   "language": "python",
   "name": "python3"
  },
  "language_info": {
   "codemirror_mode": {
    "name": "ipython",
    "version": 3
   },
   "file_extension": ".py",
   "mimetype": "text/x-python",
   "name": "python",
   "nbconvert_exporter": "python",
   "pygments_lexer": "ipython3",
   "version": "3.9.7"
  }
 },
 "nbformat": 4,
 "nbformat_minor": 5
}
