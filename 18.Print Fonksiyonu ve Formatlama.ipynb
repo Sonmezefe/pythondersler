{
 "cells": [
  {
   "cell_type": "code",
   "execution_count": 1,
   "id": "d9fe3fd1",
   "metadata": {},
   "outputs": [],
   "source": [
    "a = \"efe\""
   ]
  },
  {
   "cell_type": "code",
   "execution_count": 2,
   "id": "a1d4b0ac",
   "metadata": {},
   "outputs": [
    {
     "data": {
      "text/plain": [
       "'efe'"
      ]
     },
     "execution_count": 2,
     "metadata": {},
     "output_type": "execute_result"
    }
   ],
   "source": [
    "a"
   ]
  },
  {
   "cell_type": "code",
   "execution_count": 3,
   "id": "0895b087",
   "metadata": {},
   "outputs": [
    {
     "ename": "NameError",
     "evalue": "name 'efe' is not defined",
     "output_type": "error",
     "traceback": [
      "\u001b[1;31m---------------------------------------------------------------------------\u001b[0m",
      "\u001b[1;31mNameError\u001b[0m                                 Traceback (most recent call last)",
      "\u001b[1;32m~\\AppData\\Local\\Temp/ipykernel_4664/1357785796.py\u001b[0m in \u001b[0;36m<module>\u001b[1;34m\u001b[0m\n\u001b[1;32m----> 1\u001b[1;33m \u001b[0mprint\u001b[0m\u001b[1;33m(\u001b[0m\u001b[0mefe\u001b[0m\u001b[1;33m)\u001b[0m\u001b[1;33m\u001b[0m\u001b[1;33m\u001b[0m\u001b[0m\n\u001b[0m",
      "\u001b[1;31mNameError\u001b[0m: name 'efe' is not defined"
     ]
    }
   ],
   "source": [
    "print(efe)"
   ]
  },
  {
   "cell_type": "code",
   "execution_count": 4,
   "id": "a75b3d85",
   "metadata": {},
   "outputs": [
    {
     "data": {
      "text/plain": [
       "'efe'"
      ]
     },
     "execution_count": 4,
     "metadata": {},
     "output_type": "execute_result"
    }
   ],
   "source": [
    "\"efe\""
   ]
  },
  {
   "cell_type": "code",
   "execution_count": 5,
   "id": "14d2cb04",
   "metadata": {},
   "outputs": [
    {
     "ename": "NameError",
     "evalue": "name 'efe' is not defined",
     "output_type": "error",
     "traceback": [
      "\u001b[1;31m---------------------------------------------------------------------------\u001b[0m",
      "\u001b[1;31mNameError\u001b[0m                                 Traceback (most recent call last)",
      "\u001b[1;32m~\\AppData\\Local\\Temp/ipykernel_4664/1357785796.py\u001b[0m in \u001b[0;36m<module>\u001b[1;34m\u001b[0m\n\u001b[1;32m----> 1\u001b[1;33m \u001b[0mprint\u001b[0m\u001b[1;33m(\u001b[0m\u001b[0mefe\u001b[0m\u001b[1;33m)\u001b[0m\u001b[1;33m\u001b[0m\u001b[1;33m\u001b[0m\u001b[0m\n\u001b[0m",
      "\u001b[1;31mNameError\u001b[0m: name 'efe' is not defined"
     ]
    }
   ],
   "source": [
    "print(efe)"
   ]
  },
  {
   "cell_type": "code",
   "execution_count": 6,
   "id": "11ca01c0",
   "metadata": {},
   "outputs": [
    {
     "name": "stdout",
     "output_type": "stream",
     "text": [
      "35\n"
     ]
    }
   ],
   "source": [
    "print(35)"
   ]
  },
  {
   "cell_type": "code",
   "execution_count": 7,
   "id": "617bf346",
   "metadata": {},
   "outputs": [
    {
     "name": "stdout",
     "output_type": "stream",
     "text": [
      "efe\n"
     ]
    }
   ],
   "source": [
    "print(\"efe\")"
   ]
  },
  {
   "cell_type": "code",
   "execution_count": 8,
   "id": "611dbd48",
   "metadata": {},
   "outputs": [],
   "source": [
    "a = \"efe\""
   ]
  },
  {
   "cell_type": "code",
   "execution_count": 9,
   "id": "f396f5a1",
   "metadata": {},
   "outputs": [
    {
     "data": {
      "text/plain": [
       "'efe'"
      ]
     },
     "execution_count": 9,
     "metadata": {},
     "output_type": "execute_result"
    }
   ],
   "source": [
    "a"
   ]
  },
  {
   "cell_type": "code",
   "execution_count": 10,
   "id": "45dc3830",
   "metadata": {},
   "outputs": [
    {
     "name": "stdout",
     "output_type": "stream",
     "text": [
      "efe\n"
     ]
    }
   ],
   "source": [
    "print(a)"
   ]
  },
  {
   "cell_type": "code",
   "execution_count": 11,
   "id": "93d27546",
   "metadata": {},
   "outputs": [],
   "source": [
    "a = 5"
   ]
  },
  {
   "cell_type": "code",
   "execution_count": 12,
   "id": "b33b2e7d",
   "metadata": {},
   "outputs": [],
   "source": [
    "b = 5"
   ]
  },
  {
   "cell_type": "code",
   "execution_count": 13,
   "id": "c320d5e4",
   "metadata": {},
   "outputs": [
    {
     "name": "stdout",
     "output_type": "stream",
     "text": [
      "10\n"
     ]
    }
   ],
   "source": [
    "print(a+b)"
   ]
  },
  {
   "cell_type": "code",
   "execution_count": 14,
   "id": "dce05775",
   "metadata": {},
   "outputs": [
    {
     "ename": "NameError",
     "evalue": "name 'efe' is not defined",
     "output_type": "error",
     "traceback": [
      "\u001b[1;31m---------------------------------------------------------------------------\u001b[0m",
      "\u001b[1;31mNameError\u001b[0m                                 Traceback (most recent call last)",
      "\u001b[1;32m~\\AppData\\Local\\Temp/ipykernel_4664/522007811.py\u001b[0m in \u001b[0;36m<module>\u001b[1;34m\u001b[0m\n\u001b[1;32m----> 1\u001b[1;33m \u001b[0mprint\u001b[0m\u001b[1;33m(\u001b[0m\u001b[0mefe\u001b[0m\u001b[1;33m,\u001b[0m\u001b[1;36m35\u001b[0m\u001b[1;33m,\u001b[0m\u001b[0mesra\u001b[0m\u001b[1;33m,\u001b[0m\u001b[0mkalp\u001b[0m\u001b[1;33m)\u001b[0m\u001b[1;33m\u001b[0m\u001b[1;33m\u001b[0m\u001b[0m\n\u001b[0m",
      "\u001b[1;31mNameError\u001b[0m: name 'efe' is not defined"
     ]
    }
   ],
   "source": [
    "print(efe,35,esra,kalp)"
   ]
  },
  {
   "cell_type": "code",
   "execution_count": 15,
   "id": "3351d542",
   "metadata": {},
   "outputs": [
    {
     "name": "stdout",
     "output_type": "stream",
     "text": [
      "efe 35 esra kalp\n"
     ]
    }
   ],
   "source": [
    "print(\"efe\",35,\"esra\",\"kalp\")"
   ]
  },
  {
   "cell_type": "code",
   "execution_count": 16,
   "id": "de3b5ec8",
   "metadata": {},
   "outputs": [
    {
     "name": "stdout",
     "output_type": "stream",
     "text": [
      "Mehmet efe sönmez\n"
     ]
    }
   ],
   "source": [
    "print(\"Mehmet efe sönmez\")"
   ]
  },
  {
   "cell_type": "code",
   "execution_count": 17,
   "id": "f7e98b14",
   "metadata": {},
   "outputs": [
    {
     "name": "stdout",
     "output_type": "stream",
     "text": [
      "mehmet efe sönmez\n"
     ]
    }
   ],
   "source": [
    "print(\"mehmet\",\"efe\",\"sönmez\")"
   ]
  },
  {
   "cell_type": "code",
   "execution_count": 21,
   "id": "a7233b69",
   "metadata": {},
   "outputs": [
    {
     "name": "stdout",
     "output_type": "stream",
     "text": [
      "mehmet\n",
      "efe\n",
      "sönmez\n"
     ]
    }
   ],
   "source": [
    "print(\"mehmet\\nefe\\nsönmez\")"
   ]
  },
  {
   "cell_type": "code",
   "execution_count": 22,
   "id": "3f52e842",
   "metadata": {},
   "outputs": [
    {
     "name": "stdout",
     "output_type": "stream",
     "text": [
      "efe\tsonmez\n"
     ]
    }
   ],
   "source": [
    "print(\"efe\\tsonmez\")"
   ]
  },
  {
   "cell_type": "code",
   "execution_count": 23,
   "id": "6a3d69ad",
   "metadata": {},
   "outputs": [
    {
     "name": "stdout",
     "output_type": "stream",
     "text": [
      "mehmet\t\tefe\n"
     ]
    }
   ],
   "source": [
    "print(\"mehmet\\t\\tefe\")"
   ]
  },
  {
   "cell_type": "code",
   "execution_count": 24,
   "id": "5814d658",
   "metadata": {},
   "outputs": [
    {
     "data": {
      "text/plain": [
       "str"
      ]
     },
     "execution_count": 24,
     "metadata": {},
     "output_type": "execute_result"
    }
   ],
   "source": [
    "type(\"efe\")"
   ]
  },
  {
   "cell_type": "code",
   "execution_count": 25,
   "id": "e0434fe2",
   "metadata": {},
   "outputs": [
    {
     "data": {
      "text/plain": [
       "int"
      ]
     },
     "execution_count": 25,
     "metadata": {},
     "output_type": "execute_result"
    }
   ],
   "source": [
    "type(5)"
   ]
  },
  {
   "cell_type": "code",
   "execution_count": 26,
   "id": "6d6d880f",
   "metadata": {},
   "outputs": [
    {
     "data": {
      "text/plain": [
       "float"
      ]
     },
     "execution_count": 26,
     "metadata": {},
     "output_type": "execute_result"
    }
   ],
   "source": [
    "type(3.4)"
   ]
  },
  {
   "cell_type": "code",
   "execution_count": 27,
   "id": "6c16a5f4",
   "metadata": {},
   "outputs": [],
   "source": [
    "a = 4.5"
   ]
  },
  {
   "cell_type": "code",
   "execution_count": 28,
   "id": "98ed7835",
   "metadata": {},
   "outputs": [
    {
     "data": {
      "text/plain": [
       "4.5"
      ]
     },
     "execution_count": 28,
     "metadata": {},
     "output_type": "execute_result"
    }
   ],
   "source": [
    "a"
   ]
  },
  {
   "cell_type": "code",
   "execution_count": 29,
   "id": "b7eae96a",
   "metadata": {},
   "outputs": [
    {
     "name": "stdout",
     "output_type": "stream",
     "text": [
      "<class 'float'>\n"
     ]
    }
   ],
   "source": [
    "print(type(a))"
   ]
  },
  {
   "cell_type": "code",
   "execution_count": 32,
   "id": "6dee01a4",
   "metadata": {},
   "outputs": [
    {
     "name": "stdout",
     "output_type": "stream",
     "text": [
      "mehmet/efe/sonmez\n"
     ]
    }
   ],
   "source": [
    "print(\"mehmet\",\"efe\",\"sonmez\",sep = \"/\")"
   ]
  },
  {
   "cell_type": "code",
   "execution_count": 10,
   "id": "a808b6fc",
   "metadata": {},
   "outputs": [
    {
     "name": "stdout",
     "output_type": "stream",
     "text": [
      "esra\tulan\tsönmez\n"
     ]
    }
   ],
   "source": [
    "print(\"esra\",\"ulan\",\"sönmez\",sep = \"\\t\")"
   ]
  },
  {
   "cell_type": "code",
   "execution_count": 35,
   "id": "73049854",
   "metadata": {},
   "outputs": [
    {
     "ename": "SyntaxError",
     "evalue": "leading zeros in decimal integer literals are not permitted; use an 0o prefix for octal integers (Temp/ipykernel_4664/787300827.py, line 1)",
     "output_type": "error",
     "traceback": [
      "\u001b[1;36m  File \u001b[1;32m\"C:\\Users\\Sonmez\\AppData\\Local\\Temp/ipykernel_4664/787300827.py\"\u001b[1;36m, line \u001b[1;32m1\u001b[0m\n\u001b[1;33m    print(13,06,1988,sep = \"/\")\u001b[0m\n\u001b[1;37m              ^\u001b[0m\n\u001b[1;31mSyntaxError\u001b[0m\u001b[1;31m:\u001b[0m leading zeros in decimal integer literals are not permitted; use an 0o prefix for octal integers\n"
     ]
    }
   ],
   "source": [
    "print(13,06,1988,sep = \"/\")"
   ]
  },
  {
   "cell_type": "code",
   "execution_count": 37,
   "id": "53816ba1",
   "metadata": {},
   "outputs": [
    {
     "name": "stdout",
     "output_type": "stream",
     "text": [
      "13/06/1988\n"
     ]
    }
   ],
   "source": [
    "print(\"13\",\"06\",\"1988\",sep = \"/\")"
   ]
  },
  {
   "cell_type": "code",
   "execution_count": 38,
   "id": "04150e7c",
   "metadata": {},
   "outputs": [
    {
     "name": "stdout",
     "output_type": "stream",
     "text": [
      "e f e\n"
     ]
    }
   ],
   "source": [
    "print(*\"efe\")"
   ]
  },
  {
   "cell_type": "code",
   "execution_count": 39,
   "id": "4547e694",
   "metadata": {},
   "outputs": [
    {
     "name": "stdout",
     "output_type": "stream",
     "text": [
      "e f e\n"
     ]
    }
   ],
   "source": [
    "print(*\"efe\",sep = \" \")"
   ]
  },
  {
   "cell_type": "code",
   "execution_count": 40,
   "id": "9859d892",
   "metadata": {},
   "outputs": [
    {
     "name": "stdout",
     "output_type": "stream",
     "text": [
      "e/f/e\n"
     ]
    }
   ],
   "source": [
    "print(*\"efe\",sep = \"/\")"
   ]
  },
  {
   "cell_type": "code",
   "execution_count": 43,
   "id": "b714b6d6",
   "metadata": {},
   "outputs": [
    {
     "name": "stdout",
     "output_type": "stream",
     "text": [
      "T.B.M.M\n"
     ]
    }
   ],
   "source": [
    "print(\"T\",\"B\",\"M\",\"M\",sep = \".\")"
   ]
  },
  {
   "cell_type": "code",
   "execution_count": 44,
   "id": "1ea43d2e",
   "metadata": {},
   "outputs": [
    {
     "name": "stdout",
     "output_type": "stream",
     "text": [
      "T.B.M.M\n"
     ]
    }
   ],
   "source": [
    "print(*\"TBMM\",sep = \".\")"
   ]
  },
  {
   "cell_type": "code",
   "execution_count": 45,
   "id": "c8b07fa2",
   "metadata": {},
   "outputs": [],
   "source": [
    "a = 5\n",
    "b = 7"
   ]
  },
  {
   "cell_type": "code",
   "execution_count": 46,
   "id": "0beb5712",
   "metadata": {},
   "outputs": [
    {
     "name": "stdout",
     "output_type": "stream",
     "text": [
      "5 + 7 'nin toplamı 12 dir\n"
     ]
    }
   ],
   "source": [
    "print(\"{} + {} 'nin toplamı {} dir\".format(a,b,a+b))"
   ]
  },
  {
   "cell_type": "code",
   "execution_count": 59,
   "id": "62b7e98c",
   "metadata": {},
   "outputs": [
    {
     "name": "stdout",
     "output_type": "stream",
     "text": [
      "sonmez mehmet efe esra\n"
     ]
    }
   ],
   "source": [
    "print(\"{3} {2} {1} {0}\".format(\"esra\",\"efe\",\"mehmet\",\"sonmez\"))"
   ]
  },
  {
   "cell_type": "code",
   "execution_count": 56,
   "id": "b1772ebd",
   "metadata": {},
   "outputs": [
    {
     "data": {
      "text/plain": [
       "'4.00 5.12 3.133'"
      ]
     },
     "execution_count": 56,
     "metadata": {},
     "output_type": "execute_result"
    }
   ],
   "source": [
    "\"{2:.2f} {1:.2f} {0:.3f}\".format(3.1332,5.1234,4,1234)"
   ]
  },
  {
   "cell_type": "code",
   "execution_count": 57,
   "id": "9fd04082",
   "metadata": {},
   "outputs": [
    {
     "data": {
      "text/plain": [
       "'efe esrayı seviyor'"
      ]
     },
     "execution_count": 57,
     "metadata": {},
     "output_type": "execute_result"
    }
   ],
   "source": [
    "\"{2} {0} {1}\".format(\"esrayı\",\"seviyor\",\"efe\")"
   ]
  },
  {
   "cell_type": "code",
   "execution_count": 16,
   "id": "6d56f550",
   "metadata": {},
   "outputs": [
    {
     "data": {
      "text/plain": [
       "'esra \\nefeyi seviyor '"
      ]
     },
     "execution_count": 16,
     "metadata": {},
     "output_type": "execute_result"
    }
   ],
   "source": [
    "\"{0}\\n{1}{2}\".format(\"esra \",\"efeyi \",\"seviyor \") "
   ]
  },
  {
   "cell_type": "code",
   "execution_count": 11,
   "id": "de20d50d",
   "metadata": {},
   "outputs": [
    {
     "name": "stdout",
     "output_type": "stream",
     "text": [
      "Efe\n",
      "esranın\n",
      "sevgoşudur\n"
     ]
    }
   ],
   "source": [
    "print(\"Efe\",\"esranın\",\"sevgoşudur\",sep = \"\\n\")"
   ]
  },
  {
   "cell_type": "code",
   "execution_count": 12,
   "id": "fd442728",
   "metadata": {},
   "outputs": [
    {
     "name": "stdout",
     "output_type": "stream",
     "text": [
      "efe\n",
      "esranın\n",
      "sevgoşudur\n"
     ]
    }
   ],
   "source": [
    "print(\"efe\\nesranın\\nsevgoşudur\")"
   ]
  },
  {
   "cell_type": "code",
   "execution_count": 13,
   "id": "46d5095c",
   "metadata": {},
   "outputs": [
    {
     "name": "stdout",
     "output_type": "stream",
     "text": [
      "sana\tçikilat\n",
      "vereyim mi?\n"
     ]
    }
   ],
   "source": [
    "print(\"sana\\tçikilat\\nvereyim mi?\")"
   ]
  },
  {
   "cell_type": "code",
   "execution_count": null,
   "id": "8ab48614",
   "metadata": {},
   "outputs": [],
   "source": []
  }
 ],
 "metadata": {
  "kernelspec": {
   "display_name": "Python 3 (ipykernel)",
   "language": "python",
   "name": "python3"
  },
  "language_info": {
   "codemirror_mode": {
    "name": "ipython",
    "version": 3
   },
   "file_extension": ".py",
   "mimetype": "text/x-python",
   "name": "python",
   "nbconvert_exporter": "python",
   "pygments_lexer": "ipython3",
   "version": "3.9.7"
  }
 },
 "nbformat": 4,
 "nbformat_minor": 5
}
