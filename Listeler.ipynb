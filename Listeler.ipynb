{
 "cells": [
  {
   "cell_type": "code",
   "execution_count": 1,
   "id": "fb295d88",
   "metadata": {},
   "outputs": [],
   "source": [
    "liste = [\"efe\",35,\"esra\",4.14,5,\"efe\"]"
   ]
  },
  {
   "cell_type": "code",
   "execution_count": 2,
   "id": "5553e994",
   "metadata": {},
   "outputs": [
    {
     "data": {
      "text/plain": [
       "list"
      ]
     },
     "execution_count": 2,
     "metadata": {},
     "output_type": "execute_result"
    }
   ],
   "source": [
    "type(liste)"
   ]
  },
  {
   "cell_type": "code",
   "execution_count": 3,
   "id": "8ee712c9",
   "metadata": {},
   "outputs": [
    {
     "data": {
      "text/plain": [
       "['efe', 35, 'esra', 4.14, 5, 'efe']"
      ]
     },
     "execution_count": 3,
     "metadata": {},
     "output_type": "execute_result"
    }
   ],
   "source": [
    "liste"
   ]
  },
  {
   "cell_type": "code",
   "execution_count": 4,
   "id": "ea0ee438",
   "metadata": {},
   "outputs": [],
   "source": [
    "liste2 = []"
   ]
  },
  {
   "cell_type": "code",
   "execution_count": 5,
   "id": "c7259e2e",
   "metadata": {},
   "outputs": [
    {
     "data": {
      "text/plain": [
       "[]"
      ]
     },
     "execution_count": 5,
     "metadata": {},
     "output_type": "execute_result"
    }
   ],
   "source": [
    "liste2"
   ]
  },
  {
   "cell_type": "code",
   "execution_count": 6,
   "id": "0dca69e7",
   "metadata": {},
   "outputs": [
    {
     "data": {
      "text/plain": [
       "6"
      ]
     },
     "execution_count": 6,
     "metadata": {},
     "output_type": "execute_result"
    }
   ],
   "source": [
    "len(liste)"
   ]
  },
  {
   "cell_type": "code",
   "execution_count": 11,
   "id": "24c3a6a2",
   "metadata": {},
   "outputs": [],
   "source": [
    "liste3 = list(\"efe\")"
   ]
  },
  {
   "cell_type": "code",
   "execution_count": 12,
   "id": "a54add85",
   "metadata": {},
   "outputs": [
    {
     "data": {
      "text/plain": [
       "['e', 'f', 'e']"
      ]
     },
     "execution_count": 12,
     "metadata": {},
     "output_type": "execute_result"
    }
   ],
   "source": [
    "liste3"
   ]
  },
  {
   "cell_type": "code",
   "execution_count": 13,
   "id": "84195472",
   "metadata": {},
   "outputs": [
    {
     "data": {
      "text/plain": [
       "3"
      ]
     },
     "execution_count": 13,
     "metadata": {},
     "output_type": "execute_result"
    }
   ],
   "source": [
    "len(liste3)"
   ]
  },
  {
   "cell_type": "code",
   "execution_count": 14,
   "id": "e76751ae",
   "metadata": {},
   "outputs": [],
   "source": [
    "s = \"esra\""
   ]
  },
  {
   "cell_type": "code",
   "execution_count": 15,
   "id": "eb72da48",
   "metadata": {},
   "outputs": [
    {
     "data": {
      "text/plain": [
       "['e', 's', 'r', 'a']"
      ]
     },
     "execution_count": 15,
     "metadata": {},
     "output_type": "execute_result"
    }
   ],
   "source": [
    "list(s)"
   ]
  },
  {
   "cell_type": "code",
   "execution_count": 16,
   "id": "5bcf0f3e",
   "metadata": {},
   "outputs": [
    {
     "data": {
      "text/plain": [
       "4"
      ]
     },
     "execution_count": 16,
     "metadata": {},
     "output_type": "execute_result"
    }
   ],
   "source": [
    "len(s)"
   ]
  },
  {
   "cell_type": "code",
   "execution_count": 17,
   "id": "6e594c78",
   "metadata": {},
   "outputs": [],
   "source": [
    "a = \"efe\""
   ]
  },
  {
   "cell_type": "code",
   "execution_count": 18,
   "id": "7b3be738",
   "metadata": {},
   "outputs": [
    {
     "data": {
      "text/plain": [
       "3"
      ]
     },
     "execution_count": 18,
     "metadata": {},
     "output_type": "execute_result"
    }
   ],
   "source": [
    "len(a)"
   ]
  },
  {
   "cell_type": "code",
   "execution_count": 19,
   "id": "77469844",
   "metadata": {},
   "outputs": [
    {
     "data": {
      "text/plain": [
       "4.14"
      ]
     },
     "execution_count": 19,
     "metadata": {},
     "output_type": "execute_result"
    }
   ],
   "source": [
    "liste[3]"
   ]
  },
  {
   "cell_type": "code",
   "execution_count": 20,
   "id": "6c870b71",
   "metadata": {},
   "outputs": [
    {
     "data": {
      "text/plain": [
       "4.14"
      ]
     },
     "execution_count": 20,
     "metadata": {},
     "output_type": "execute_result"
    }
   ],
   "source": [
    "liste[-3]"
   ]
  },
  {
   "cell_type": "code",
   "execution_count": 21,
   "id": "b2fd8c28",
   "metadata": {},
   "outputs": [
    {
     "data": {
      "text/plain": [
       "'efe'"
      ]
     },
     "execution_count": 21,
     "metadata": {},
     "output_type": "execute_result"
    }
   ],
   "source": [
    "liste[-1]"
   ]
  },
  {
   "cell_type": "code",
   "execution_count": 24,
   "id": "b94e2498",
   "metadata": {},
   "outputs": [
    {
     "data": {
      "text/plain": [
       "5"
      ]
     },
     "execution_count": 24,
     "metadata": {},
     "output_type": "execute_result"
    }
   ],
   "source": [
    "liste[len(liste)-2]"
   ]
  },
  {
   "cell_type": "code",
   "execution_count": 25,
   "id": "fabd85f3",
   "metadata": {},
   "outputs": [
    {
     "data": {
      "text/plain": [
       "[5, 'efe']"
      ]
     },
     "execution_count": 25,
     "metadata": {},
     "output_type": "execute_result"
    }
   ],
   "source": [
    "liste[4:]"
   ]
  },
  {
   "cell_type": "code",
   "execution_count": 26,
   "id": "8b9a1eee",
   "metadata": {},
   "outputs": [
    {
     "data": {
      "text/plain": [
       "['efe', 35, 'esra', 4.14]"
      ]
     },
     "execution_count": 26,
     "metadata": {},
     "output_type": "execute_result"
    }
   ],
   "source": [
    "liste[:4]"
   ]
  },
  {
   "cell_type": "code",
   "execution_count": 27,
   "id": "b459932c",
   "metadata": {},
   "outputs": [
    {
     "data": {
      "text/plain": [
       "['efe', 'esra', 5]"
      ]
     },
     "execution_count": 27,
     "metadata": {},
     "output_type": "execute_result"
    }
   ],
   "source": [
    "liste[::2]"
   ]
  },
  {
   "cell_type": "code",
   "execution_count": 28,
   "id": "1cb25f23",
   "metadata": {},
   "outputs": [
    {
     "data": {
      "text/plain": [
       "['efe', 5, 4.14, 'esra', 35, 'efe']"
      ]
     },
     "execution_count": 28,
     "metadata": {},
     "output_type": "execute_result"
    }
   ],
   "source": [
    "liste[::-1]"
   ]
  },
  {
   "cell_type": "code",
   "execution_count": 30,
   "id": "016b86be",
   "metadata": {},
   "outputs": [
    {
     "data": {
      "text/plain": [
       "['efe', 4.14, 35]"
      ]
     },
     "execution_count": 30,
     "metadata": {},
     "output_type": "execute_result"
    }
   ],
   "source": [
    "liste[::-2]"
   ]
  },
  {
   "cell_type": "code",
   "execution_count": 33,
   "id": "d30aeac1",
   "metadata": {},
   "outputs": [
    {
     "data": {
      "text/plain": [
       "[1, 2, 3, 4, 5, 6, 7, 8]"
      ]
     },
     "execution_count": 33,
     "metadata": {},
     "output_type": "execute_result"
    }
   ],
   "source": [
    "listea = [1,2,3,4]\n",
    "listeb = [5,6,7,8]\n",
    "listec = listea + listeb\n",
    "listec"
   ]
  },
  {
   "cell_type": "code",
   "execution_count": 34,
   "id": "7fce70b1",
   "metadata": {},
   "outputs": [
    {
     "data": {
      "text/plain": [
       "8"
      ]
     },
     "execution_count": 34,
     "metadata": {},
     "output_type": "execute_result"
    }
   ],
   "source": [
    "len(listec)"
   ]
  },
  {
   "cell_type": "code",
   "execution_count": 38,
   "id": "122c51e5",
   "metadata": {},
   "outputs": [
    {
     "data": {
      "text/plain": [
       "[1, 2, 3, 4, 1, 2, 3, 4]"
      ]
     },
     "execution_count": 38,
     "metadata": {},
     "output_type": "execute_result"
    }
   ],
   "source": [
    "listea * 2"
   ]
  },
  {
   "cell_type": "code",
   "execution_count": 39,
   "id": "9da9fcf2",
   "metadata": {},
   "outputs": [],
   "source": [
    "listed = listea * 2 + listeb * 3"
   ]
  },
  {
   "cell_type": "code",
   "execution_count": 42,
   "id": "c8b81022",
   "metadata": {},
   "outputs": [
    {
     "data": {
      "text/plain": [
       "[1, 2, 3, 4, 1, 2, 3, 4, 5, 6, 7, 8, 5, 6, 7, 8, 5, 6, 7, 8]"
      ]
     },
     "execution_count": 42,
     "metadata": {},
     "output_type": "execute_result"
    }
   ],
   "source": [
    "listed"
   ]
  },
  {
   "cell_type": "code",
   "execution_count": 41,
   "id": "01e04a6b",
   "metadata": {},
   "outputs": [
    {
     "data": {
      "text/plain": [
       "[1, 2, 3, 4, 1, 2, 3, 4, 5, 6, 7, 8, 5, 6, 7, 8, 5, 6, 7, 8]"
      ]
     },
     "execution_count": 41,
     "metadata": {},
     "output_type": "execute_result"
    }
   ],
   "source": [
    "listed"
   ]
  },
  {
   "cell_type": "code",
   "execution_count": 43,
   "id": "d98343fb",
   "metadata": {},
   "outputs": [
    {
     "data": {
      "text/plain": [
       "20"
      ]
     },
     "execution_count": 43,
     "metadata": {},
     "output_type": "execute_result"
    }
   ],
   "source": [
    "len(listed)"
   ]
  },
  {
   "cell_type": "code",
   "execution_count": 44,
   "id": "3ce37114",
   "metadata": {},
   "outputs": [
    {
     "data": {
      "text/plain": [
       "[1, 2, 3, 4, 5, 6, 7, 8]"
      ]
     },
     "execution_count": 44,
     "metadata": {},
     "output_type": "execute_result"
    }
   ],
   "source": [
    "listec"
   ]
  },
  {
   "cell_type": "code",
   "execution_count": 45,
   "id": "0d70092f",
   "metadata": {},
   "outputs": [
    {
     "data": {
      "text/plain": [
       "[5, 6, 7, 8]"
      ]
     },
     "execution_count": 45,
     "metadata": {},
     "output_type": "execute_result"
    }
   ],
   "source": [
    "listeb"
   ]
  },
  {
   "cell_type": "code",
   "execution_count": 46,
   "id": "b4dbf23c",
   "metadata": {},
   "outputs": [],
   "source": [
    "listeb[1] = 2"
   ]
  },
  {
   "cell_type": "code",
   "execution_count": 47,
   "id": "7d063a3e",
   "metadata": {},
   "outputs": [
    {
     "data": {
      "text/plain": [
       "[5, 2, 7, 8]"
      ]
     },
     "execution_count": 47,
     "metadata": {},
     "output_type": "execute_result"
    }
   ],
   "source": [
    "listeb"
   ]
  },
  {
   "cell_type": "code",
   "execution_count": 48,
   "id": "121dbfca",
   "metadata": {},
   "outputs": [
    {
     "data": {
      "text/plain": [
       "[5, 2]"
      ]
     },
     "execution_count": 48,
     "metadata": {},
     "output_type": "execute_result"
    }
   ],
   "source": [
    "listeb[:2]"
   ]
  },
  {
   "cell_type": "code",
   "execution_count": 49,
   "id": "68ac65ca",
   "metadata": {},
   "outputs": [],
   "source": [
    "listeb[:2] = [\"efe\",\"esra\"]"
   ]
  },
  {
   "cell_type": "code",
   "execution_count": 50,
   "id": "5ae220e8",
   "metadata": {},
   "outputs": [
    {
     "data": {
      "text/plain": [
       "['efe', 'esra', 7, 8]"
      ]
     },
     "execution_count": 50,
     "metadata": {},
     "output_type": "execute_result"
    }
   ],
   "source": [
    "listeb"
   ]
  },
  {
   "cell_type": "code",
   "execution_count": 66,
   "id": "41ea2835",
   "metadata": {},
   "outputs": [],
   "source": [
    "liste = [1,2,3,4,5]"
   ]
  },
  {
   "cell_type": "markdown",
   "id": "bd0377f2",
   "metadata": {},
   "source": [
    "APPEND METODU LİSTELERE EKLEME YAPAR"
   ]
  },
  {
   "cell_type": "code",
   "execution_count": 52,
   "id": "54da430e",
   "metadata": {},
   "outputs": [],
   "source": [
    "liste.append(\"esra\")"
   ]
  },
  {
   "cell_type": "code",
   "execution_count": 53,
   "id": "44a11067",
   "metadata": {},
   "outputs": [
    {
     "data": {
      "text/plain": [
       "[1, 2, 3, 4, 5, 'esra']"
      ]
     },
     "execution_count": 53,
     "metadata": {},
     "output_type": "execute_result"
    }
   ],
   "source": [
    "liste"
   ]
  },
  {
   "cell_type": "code",
   "execution_count": 54,
   "id": "e9ebc616",
   "metadata": {},
   "outputs": [],
   "source": [
    "liste2 = \"efe\",35"
   ]
  },
  {
   "cell_type": "code",
   "execution_count": 57,
   "id": "afaaf023",
   "metadata": {},
   "outputs": [
    {
     "data": {
      "text/plain": [
       "[1, 2, 3, 4, 5, 'esra', ('efe', 35)]"
      ]
     },
     "execution_count": 57,
     "metadata": {},
     "output_type": "execute_result"
    }
   ],
   "source": [
    "liste"
   ]
  },
  {
   "cell_type": "code",
   "execution_count": 58,
   "id": "497bbc11",
   "metadata": {},
   "outputs": [],
   "source": [
    "liste = [1,2,3,4,5]"
   ]
  },
  {
   "cell_type": "code",
   "execution_count": 59,
   "id": "84b723cd",
   "metadata": {
    "scrolled": true
   },
   "outputs": [
    {
     "data": {
      "text/plain": [
       "[1, 2, 3, 4, 5]"
      ]
     },
     "execution_count": 59,
     "metadata": {},
     "output_type": "execute_result"
    }
   ],
   "source": [
    "liste"
   ]
  },
  {
   "cell_type": "markdown",
   "id": "39eaa879",
   "metadata": {},
   "source": [
    "POP METODU LİSTEDEN SİLME YAPAR"
   ]
  },
  {
   "cell_type": "code",
   "execution_count": 60,
   "id": "8e94cfc4",
   "metadata": {},
   "outputs": [
    {
     "data": {
      "text/plain": [
       "<function list.pop(index=-1, /)>"
      ]
     },
     "execution_count": 60,
     "metadata": {},
     "output_type": "execute_result"
    }
   ],
   "source": [
    "liste.pop"
   ]
  },
  {
   "cell_type": "code",
   "execution_count": 61,
   "id": "7da910f5",
   "metadata": {},
   "outputs": [
    {
     "data": {
      "text/plain": [
       "5"
      ]
     },
     "execution_count": 61,
     "metadata": {},
     "output_type": "execute_result"
    }
   ],
   "source": [
    "liste.pop()"
   ]
  },
  {
   "cell_type": "code",
   "execution_count": 62,
   "id": "4f009888",
   "metadata": {},
   "outputs": [
    {
     "data": {
      "text/plain": [
       "3"
      ]
     },
     "execution_count": 62,
     "metadata": {},
     "output_type": "execute_result"
    }
   ],
   "source": [
    "liste.pop(-2)"
   ]
  },
  {
   "cell_type": "code",
   "execution_count": 63,
   "id": "c5ca0ee0",
   "metadata": {},
   "outputs": [
    {
     "data": {
      "text/plain": [
       "[1, 2, 4]"
      ]
     },
     "execution_count": 63,
     "metadata": {},
     "output_type": "execute_result"
    }
   ],
   "source": [
    "liste"
   ]
  },
  {
   "cell_type": "markdown",
   "id": "551ad075",
   "metadata": {},
   "source": [
    "SORT METODU SIRALAMA YAPAR"
   ]
  },
  {
   "cell_type": "code",
   "execution_count": 68,
   "id": "3166f08c",
   "metadata": {},
   "outputs": [],
   "source": [
    "liste = [1,5,9,6,8,23,100,2]"
   ]
  },
  {
   "cell_type": "code",
   "execution_count": 69,
   "id": "4192d186",
   "metadata": {},
   "outputs": [
    {
     "data": {
      "text/plain": [
       "<function list.sort(*, key=None, reverse=False)>"
      ]
     },
     "execution_count": 69,
     "metadata": {},
     "output_type": "execute_result"
    }
   ],
   "source": [
    "liste.sort"
   ]
  },
  {
   "cell_type": "code",
   "execution_count": 70,
   "id": "f9aad171",
   "metadata": {},
   "outputs": [],
   "source": [
    "liste.sort()"
   ]
  },
  {
   "cell_type": "code",
   "execution_count": 71,
   "id": "67daaa1d",
   "metadata": {},
   "outputs": [
    {
     "data": {
      "text/plain": [
       "[1, 2, 5, 6, 8, 9, 23, 100]"
      ]
     },
     "execution_count": 71,
     "metadata": {},
     "output_type": "execute_result"
    }
   ],
   "source": [
    "liste"
   ]
  },
  {
   "cell_type": "code",
   "execution_count": 77,
   "id": "dffe5ef3",
   "metadata": {},
   "outputs": [],
   "source": [
    "liste.sort(reverse  = True)"
   ]
  },
  {
   "cell_type": "code",
   "execution_count": 78,
   "id": "246dc027",
   "metadata": {},
   "outputs": [
    {
     "data": {
      "text/plain": [
       "[100, 23, 9, 8, 6, 5, 2, 1]"
      ]
     },
     "execution_count": 78,
     "metadata": {},
     "output_type": "execute_result"
    }
   ],
   "source": [
    "liste"
   ]
  },
  {
   "cell_type": "code",
   "execution_count": 79,
   "id": "b44e94e4",
   "metadata": {},
   "outputs": [],
   "source": [
    "liste2 = [\"efe\",\"esra\",\"yiğit\",\"burcu\"]"
   ]
  },
  {
   "cell_type": "code",
   "execution_count": 80,
   "id": "c9a8c6d2",
   "metadata": {},
   "outputs": [],
   "source": [
    "liste2.sort()"
   ]
  },
  {
   "cell_type": "code",
   "execution_count": 81,
   "id": "cf859cb7",
   "metadata": {},
   "outputs": [
    {
     "data": {
      "text/plain": [
       "['burcu', 'efe', 'esra', 'yiğit']"
      ]
     },
     "execution_count": 81,
     "metadata": {},
     "output_type": "execute_result"
    }
   ],
   "source": [
    "liste2"
   ]
  },
  {
   "cell_type": "code",
   "execution_count": 82,
   "id": "87ed8d70",
   "metadata": {},
   "outputs": [],
   "source": [
    "liste3 = [1,2,3,4,5]"
   ]
  },
  {
   "cell_type": "code",
   "execution_count": 83,
   "id": "ffd8b7ca",
   "metadata": {},
   "outputs": [
    {
     "data": {
      "text/plain": [
       "4"
      ]
     },
     "execution_count": 83,
     "metadata": {},
     "output_type": "execute_result"
    }
   ],
   "source": [
    "liste3[3]"
   ]
  },
  {
   "cell_type": "markdown",
   "id": "9739d857",
   "metadata": {},
   "source": [
    "İÇ İÇE LİSTE OLUŞTURMA"
   ]
  },
  {
   "cell_type": "code",
   "execution_count": 84,
   "id": "559400e3",
   "metadata": {},
   "outputs": [],
   "source": [
    "liste4 = [[\"efe\",\"esra\"],[1,2],[\"3,4\"]]"
   ]
  },
  {
   "cell_type": "code",
   "execution_count": 85,
   "id": "7aeac2c2",
   "metadata": {},
   "outputs": [
    {
     "data": {
      "text/plain": [
       "[['efe', 'esra'], [1, 2], ['3,4']]"
      ]
     },
     "execution_count": 85,
     "metadata": {},
     "output_type": "execute_result"
    }
   ],
   "source": [
    "liste4"
   ]
  },
  {
   "cell_type": "code",
   "execution_count": 87,
   "id": "97b36a67",
   "metadata": {},
   "outputs": [
    {
     "data": {
      "text/plain": [
       "'esra'"
      ]
     },
     "execution_count": 87,
     "metadata": {},
     "output_type": "execute_result"
    }
   ],
   "source": [
    "liste4[0][1]"
   ]
  },
  {
   "cell_type": "code",
   "execution_count": null,
   "id": "6ad57ce9",
   "metadata": {},
   "outputs": [],
   "source": []
  }
 ],
 "metadata": {
  "kernelspec": {
   "display_name": "Python 3 (ipykernel)",
   "language": "python",
   "name": "python3"
  },
  "language_info": {
   "codemirror_mode": {
    "name": "ipython",
    "version": 3
   },
   "file_extension": ".py",
   "mimetype": "text/x-python",
   "name": "python",
   "nbconvert_exporter": "python",
   "pygments_lexer": "ipython3",
   "version": "3.9.7"
  }
 },
 "nbformat": 4,
 "nbformat_minor": 5
}
